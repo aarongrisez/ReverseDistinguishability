{
 "cells": [
  {
   "cell_type": "code",
   "execution_count": 2,
   "metadata": {},
   "outputs": [],
   "source": [
    "from sympy import *\n",
    "import numpy as np\n",
    "import random\n",
    "init_printing()"
   ]
  },
  {
   "cell_type": "code",
   "execution_count": 3,
   "metadata": {},
   "outputs": [],
   "source": [
    "t = Symbol('theta')\n",
    "d = Symbol('delta')\n",
    "o = Symbol('omega')\n",
    "lr = Symbol('lambda_rho')\n",
    "ls = Symbol('lambda_sigma')"
   ]
  },
  {
   "cell_type": "code",
   "execution_count": 4,
   "metadata": {},
   "outputs": [],
   "source": [
    "e = cos(t)*cos(d)+tan(t)*tan(d)*sin(t)*sin(d)\n",
    "f = cos(t)*cos(o)+tan(t)*tan(o)*sin(t)*sin(o)\n",
    "g = sqrt(1 + (tan(t))**2 * (tan(d))**2)\n",
    "h = sqrt(1 + (tan(t))**2 * (tan(o))**2)"
   ]
  },
  {
   "cell_type": "code",
   "execution_count": 5,
   "metadata": {},
   "outputs": [],
   "source": [
    "k = Rational(1/2) * (e / g + f / h)"
   ]
  },
  {
   "cell_type": "code",
   "execution_count": 6,
   "metadata": {},
   "outputs": [],
   "source": [
    "#d = acos(sqrt(lr)) - acos(sqrt(ls))\n",
    "#o = acos(sqrt(lr)) + acos(sqrt(ls))\n",
    "d = 0\n",
    "o = 2 * acos(sqrt(lr))"
   ]
  },
  {
   "cell_type": "code",
   "execution_count": 7,
   "metadata": {},
   "outputs": [],
   "source": [
    "p = trigsimp(k)"
   ]
  },
  {
   "cell_type": "code",
   "execution_count": 12,
   "metadata": {},
   "outputs": [],
   "source": [
    "from sympy.utilities.autowrap import ufuncify"
   ]
  },
  {
   "cell_type": "code",
   "execution_count": 19,
   "metadata": {},
   "outputs": [],
   "source": [
    "m = ufuncify([lr, ls, t], k)"
   ]
  },
  {
   "cell_type": "code",
   "execution_count": 176,
   "metadata": {},
   "outputs": [
    {
     "name": "stdout",
     "output_type": "stream",
     "text": [
      "mean -0.009774649797581188\n",
      "max 0.40309085822990437\n",
      "min -0.4945083428275704\n",
      "std 0.18649167175849007\n"
     ]
    }
   ],
   "source": [
    "params = []\n",
    "for i in range(1000):\n",
    "    l1 = random.random()\n",
    "    l2 = random.random()\n",
    "    theta = random.random() * np.pi / 2\n",
    "    params.append((l1,l2,theta))\n",
    "vals = []\n",
    "for i in params:\n",
    "    vals.append(m(i[0],i[1],i[2]))\n",
    "p = np.array(vals)\n",
    "print('mean ' + str(p.mean()))\n",
    "print('max ' + str(p.max()))\n",
    "print('min ' + str(p.min()))\n",
    "print('std ' + str(p.std()))"
   ]
  },
  {
   "cell_type": "code",
   "execution_count": 8,
   "metadata": {},
   "outputs": [
    {
     "data": {
      "image/png": "[encoded data removed]",
      "text/latex": [
       "$$\\frac{\\frac{1}{2} \\cos{\\left (2 \\left(\\omega - \\theta\\right) \\right )} + \\frac{1}{2} \\cos{\\left (2 \\left(\\omega + \\theta\\right) \\right )} + 1}{2 \\sqrt{\\tan^{2}{\\left (\\omega \\right )} \\tan^{2}{\\left (\\theta \\right )} + 1} \\left(\\cos{\\left (\\omega - \\theta \\right )} + \\cos{\\left (\\omega + \\theta \\right )}\\right)} + \\frac{\\frac{1}{2} \\cos{\\left (2 \\left(\\delta - \\theta\\right) \\right )} + \\frac{1}{2} \\cos{\\left (2 \\left(\\delta + \\theta\\right) \\right )} + 1}{2 \\sqrt{\\tan^{2}{\\left (\\delta \\right )} \\tan^{2}{\\left (\\theta \\right )} + 1} \\left(\\cos{\\left (\\delta - \\theta \\right )} + \\cos{\\left (\\delta + \\theta \\right )}\\right)}$$"
      ],
      "text/plain": [
       "        cos(2⋅(ω - θ))   cos(2⋅(ω + θ))                        cos(2⋅(δ - θ)) \n",
       "        ────────────── + ────────────── + 1                    ────────────── \n",
       "              2                2                                     2        \n",
       "──────────────────────────────────────────────────── + ───────────────────────\n",
       "     _____________________                                  __________________\n",
       "    ╱    2       2                                         ╱    2       2     \n",
       "2⋅╲╱  tan (ω)⋅tan (θ) + 1 ⋅(cos(ω - θ) + cos(ω + θ))   2⋅╲╱  tan (δ)⋅tan (θ) +\n",
       "\n",
       "  cos(2⋅(δ + θ))             \n",
       "+ ────────────── + 1         \n",
       "        2                    \n",
       "─────────────────────────────\n",
       "___                          \n",
       "                             \n",
       " 1 ⋅(cos(δ - θ) + cos(δ + θ))"
      ]
     },
     "execution_count": 8,
     "metadata": {},
     "output_type": "execute_result"
    }
   ],
   "source": [
    "p"
   ]
  },
  {
   "cell_type": "code",
   "execution_count": 9,
   "metadata": {},
   "outputs": [],
   "source": [
    "def matsumoto(l, t):\n",
    "    return l * (1-l) / ((1 - l) * np.cos(t) ** 2 + l * sin(t) ** 2)"
   ]
  },
  {
   "cell_type": "code",
   "execution_count": null,
   "metadata": {},
   "outputs": [],
   "source": [
    "def p(l, t):\n",
    "    return 1 / np.sqrt(1 + np.tan(t) ** 2 * (1 - l)/l) * (np.cos(t)*np.sqrt(l) + )"
   ]
  }
 ],
 "metadata": {
  "kernelspec": {
   "display_name": "Python 3",
   "language": "python",
   "name": "python3"
  },
  "language_info": {
   "codemirror_mode": {
    "name": "ipython",
    "version": 3
   },
   "file_extension": ".py",
   "mimetype": "text/x-python",
   "name": "python",
   "nbconvert_exporter": "python",
   "pygments_lexer": "ipython3",
   "version": "3.6.5"
  }
 },
 "nbformat": 4,
 "nbformat_minor": 2
}
