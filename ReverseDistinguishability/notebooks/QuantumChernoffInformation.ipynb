{
 "cells": [
  {
   "cell_type": "code",
   "execution_count": 1,
   "metadata": {},
   "outputs": [],
   "source": [
    "import ReverseDistinguishability.quantities as q\n",
    "import matplotlib.pyplot as plt\n",
    "import numpy as np\n",
    "from scipy.optimize import shgo\n",
    "import pandas as pd\n",
    "import datetime\n",
    "import os\n",
    "\n",
    "DATA_PATH = r'C:\\Users\\Aaron\\Documents\\CurrentProjects\\ReverseDistinguishability\\data'"
   ]
  },
  {
   "cell_type": "code",
   "execution_count": 10,
   "metadata": {},
   "outputs": [],
   "source": [
    "# retrieve data from h5 file\n",
    "df = pd.DataFrame()\n",
    "with pd.HDFStore(os.path.join(DATA_PATH, 'qcb.h5')) as hdf:\n",
    "    for k in hdf.keys():\n",
    "        df = df.append(hdf.get(k))"
   ]
  },
  {
   "cell_type": "code",
   "execution_count": null,
   "metadata": {},
   "outputs": [],
   "source": []
  }
 ],
 "metadata": {
  "kernelspec": {
   "display_name": "Python 3",
   "language": "python",
   "name": "python3"
  },
  "language_info": {
   "codemirror_mode": {
    "name": "ipython",
    "version": 3
   },
   "file_extension": ".py",
   "mimetype": "text/x-python",
   "name": "python",
   "nbconvert_exporter": "python",
   "pygments_lexer": "ipython3",
   "version": "3.7.3"
  }
 },
 "nbformat": 4,
 "nbformat_minor": 2
}
