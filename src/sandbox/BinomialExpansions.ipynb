{
 "cells": [
  {
   "cell_type": "code",
   "execution_count": 7,
   "metadata": {},
   "outputs": [],
   "source": [
    "import sympy\n",
    "from sympy.physics.quantum import TensorProduct\n",
    "import numpy as np\n",
    "from scipy.special import comb\n",
    "sympy.init_printing()"
   ]
  },
  {
   "cell_type": "code",
   "execution_count": 36,
   "metadata": {},
   "outputs": [],
   "source": [
    "t = sympy.Symbol('t')\n",
    "T = sympy.Symbol('tau', commutative=False)\n",
    "Ap = sympy.Symbol('rhoprime', commutative=False)\n",
    "Bp = sympy.Symbol('sigmaprime', commutative=False)"
   ]
  },
  {
   "cell_type": "code",
   "execution_count": 9,
   "metadata": {},
   "outputs": [],
   "source": [
    "A = t * T + (1 - t) * Ap\n",
    "B = t * T + (1 - t) * Bp"
   ]
  },
  {
   "cell_type": "code",
   "execution_count": 28,
   "metadata": {},
   "outputs": [],
   "source": [
    "#This case assumes some commutativity between Ap, T and Bp, T\n",
    "n = 4\n",
    "sum1 = 0\n",
    "sum2 = 0\n",
    "for k in range(n):\n",
    "    sum1 += int(comb(int(n), 2*k)) * (t * T) ** 2*k * ((1 - t) * Ap) ** (n - 2*k)\n",
    "    sum2 += int(comb(int(n) + k - 1, 2*k)) * (t * T) ** 2*k * ((1 - t) * Bp) ** (-n - 2*k)"
   ]
  },
  {
   "cell_type": "code",
   "execution_count": 30,
   "metadata": {
    "scrolled": true
   },
   "outputs": [
    {
     "data": {
      "image/png": "[encoded data removed]",
      "text/latex": [
       "$$\\left(6 t^{2} \\left(- t + 1\\right)^{2} \\tau^{2} {\\rho}'^{2} + 2 t^{2} \\tau^{2}\\right) \\left(\\frac{6 t^{2} \\tau^{2} {\\sigma}'^{-6}}{\\left(- t + 1\\right)^{6}} + \\frac{10 t^{2} \\tau^{2} {\\sigma}'^{-8}}{\\left(- t + 1\\right)^{8}} + \\frac{3 t^{2} \\tau^{2} {\\sigma}'^{-10}}{\\left(- t + 1\\right)^{10}}\\right) \\left(6 t^{2} \\left(- t + 1\\right)^{2} \\tau^{2} {\\rho}'^{2} + 2 t^{2} \\tau^{2}\\right)$$"
      ],
      "text/plain": [
       "                                  ⎛   2  2   -6       2  2   -8      2  2   -1\n",
       "⎛   2         2  2   2      2  2⎞ ⎜6⋅t ⋅τ ⋅σ′     10⋅t ⋅τ ⋅σ′     3⋅t ⋅τ ⋅σ′  \n",
       "⎝6⋅t ⋅(-t + 1) ⋅τ ⋅ρ′  + 2⋅t ⋅τ ⎠⋅⎜──────────── + ───────────── + ────────────\n",
       "                                  ⎜         6               8               10\n",
       "                                  ⎝ (-t + 1)        (-t + 1)        (-t + 1)  \n",
       "\n",
       "0⎞                                  \n",
       " ⎟ ⎛   2         2  2   2      2  2⎞\n",
       "─⎟⋅⎝6⋅t ⋅(-t + 1) ⋅τ ⋅ρ′  + 2⋅t ⋅τ ⎠\n",
       " ⎟                                  \n",
       " ⎠                                  "
      ]
     },
     "execution_count": 30,
     "metadata": {},
     "output_type": "execute_result"
    }
   ],
   "source": [
    "(sum1 * sum2 * sum1)"
   ]
  },
  {
   "cell_type": "code",
   "execution_count": 31,
   "metadata": {},
   "outputs": [],
   "source": [
    "#General, noncommutting case"
   ]
  },
  {
   "cell_type": "code",
   "execution_count": 87,
   "metadata": {},
   "outputs": [],
   "source": [
    "def M(A, B, i):\n",
    "    sum1 = 0\n",
    "    if i == 0:\n",
    "        return 1\n",
    "    if i == 1:\n",
    "        return A + B\n",
    "    for k in range(i+1):\n",
    "        sum1 += int(comb(i, k)) * A ** k * B ** (i - k)\n",
    "    return sum1\n",
    "        \n",
    "def binomial(A, B, n):\n",
    "    if n == 1:\n",
    "        return A + B\n",
    "    else:\n",
    "        if n > 0:\n",
    "            return M(A, B, n) + intsum(A, B, n-2)\n",
    "        else:\n",
    "            return M_neg(A, B, n) + intsum_neg(A, B, n-2)\n",
    "\n",
    "def M_neg(A, B, i):\n",
    "    sum1 = 0\n",
    "    if i == 0:\n",
    "        return 1\n",
    "    if i == -1:\n",
    "        return 1 / (A + B)\n",
    "    for k in range(-1 * i):\n",
    "        sum1 += (-1) ** k * int(comb(-1 * i + k - 1, k)) * A ** k * B ** (-1 * i - k)\n",
    "    return sum1\n",
    "        \n",
    "def intsum(A, B, np):\n",
    "    sum2 = 0\n",
    "    for k in range(np):\n",
    "        sum2 += binomial(A, B, k) * (B * M(A, B, np+2) - M(A, B, np+2) * B)\n",
    "    return sum2\n",
    "\n",
    "def intsum_neg(A, B, np):\n",
    "    sum2 = 0\n",
    "    for k in range(np):\n",
    "        sum2 += binomial(A, B, k) * (B * M(A, B, np+2) - M_neg(A, B, np+2) * B)\n",
    "    return sum2"
   ]
  },
  {
   "cell_type": "code",
   "execution_count": 81,
   "metadata": {},
   "outputs": [
    {
     "data": {
      "image/png": "[encoded data removed]",
      "text/latex": [
       "$$t^{2} \\tau^{2} + 2 t \\left(- t + 1\\right) \\tau {\\rho}' + \\left(- t + 1\\right)^{2} {\\rho}'^{2}$$"
      ],
      "text/plain": [
       " 2  2                               2   2\n",
       "t ⋅τ  + 2⋅t⋅(-t + 1)⋅τ⋅ρ′ + (-t + 1) ⋅ρ′ "
      ]
     },
     "execution_count": 81,
     "metadata": {},
     "output_type": "execute_result"
    }
   ],
   "source": [
    "binomial(t * T, (1-t) * Ap, 2)"
   ]
  },
  {
   "cell_type": "code",
   "execution_count": 88,
   "metadata": {},
   "outputs": [
    {
     "data": {
      "image/png": "[encoded data removed]",
      "text/latex": [
       "$$- 2 t \\left(- t + 1\\right) \\tau {\\sigma}' + \\left(- t + 1\\right)^{2} {\\sigma}'^{2}$$"
      ],
      "text/plain": [
       "                             2   2\n",
       "-2⋅t⋅(-t + 1)⋅τ⋅σ′ + (-t + 1) ⋅σ′ "
      ]
     },
     "execution_count": 88,
     "metadata": {},
     "output_type": "execute_result"
    }
   ],
   "source": [
    "binomial(t * T, (1-t) * Bp, -2)"
   ]
  },
  {
   "cell_type": "code",
   "execution_count": null,
   "metadata": {},
   "outputs": [],
   "source": []
  }
 ],
 "metadata": {
  "kernelspec": {
   "display_name": "Python 3",
   "language": "python",
   "name": "python3"
  },
  "language_info": {
   "codemirror_mode": {
    "name": "ipython",
    "version": 3
   },
   "file_extension": ".py",
   "mimetype": "text/x-python",
   "name": "python",
   "nbconvert_exporter": "python",
   "pygments_lexer": "ipython3",
   "version": "3.6.5"
  }
 },
 "nbformat": 4,
 "nbformat_minor": 2
}
