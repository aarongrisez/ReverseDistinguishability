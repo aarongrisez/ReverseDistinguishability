{
 "cells": [
  {
   "cell_type": "code",
   "execution_count": 2,
   "metadata": {},
   "outputs": [],
   "source": [
    "from sympy import *\n",
    "init_printing()"
   ]
  },
  {
   "cell_type": "code",
   "execution_count": 3,
   "metadata": {},
   "outputs": [],
   "source": [
    "t = Symbol('theta')\n",
    "a = Symbol('a')\n",
    "b = Symbol('b')\n",
    "l = Symbol('lambda')"
   ]
  },
  {
   "cell_type": "code",
   "execution_count": 4,
   "metadata": {},
   "outputs": [],
   "source": [
    "a1 = Matrix([cos(t)**2/a**2 + sin(t)**2/b**2,\n",
    "             cos(t)*sin(t)/a**2-cos(t)*sin(t)/b**2,\n",
    "             -l*cos(t)/(2*a**2)])\n",
    "a2 = Matrix([cos(t)*sin(t)/a**2-cos(t)*sin(t)/b**2,\n",
    "             cos(t)**2/b**2 + sin(t)**2/a**2,\n",
    "             -l*sin(t)/(2*a**2)])\n",
    "a3 = Matrix([-l*cos(t)/(2*a**2),\n",
    "             -l*sin(t)/(2*a**2),\n",
    "             0])"
   ]
  },
  {
   "cell_type": "code",
   "execution_count": 5,
   "metadata": {},
   "outputs": [],
   "source": [
    "b1 = Matrix([cos(-t)**2/a**2 + sin(-t)**2/b**2,\n",
    "             cos(-t)*sin(-t)/a**2-cos(-t)*sin(-t)/b**2,\n",
    "             -l*cos(t)/(2*a**2)])\n",
    "b2 = Matrix([cos(-t)*sin(-t)/a**2-cos(-t)*sin(-t)/b**2,\n",
    "             cos(-t)**2/b**2 + sin(-t)**2/a**2,\n",
    "             -l*sin(-t)/(2*a**2)])\n",
    "b3 = Matrix([-l*cos(-t)/(2*a**2),\n",
    "             -l*sin(-t)/(2*a**2),\n",
    "             0])"
   ]
  },
  {
   "cell_type": "code",
   "execution_count": 6,
   "metadata": {},
   "outputs": [],
   "source": [
    "def constructMatrix(cols):\n",
    "    M = Matrix([])\n",
    "    for (i, c) in enumerate(cols):\n",
    "        M = M.col_insert(i, c)\n",
    "    return M"
   ]
  },
  {
   "cell_type": "code",
   "execution_count": 7,
   "metadata": {},
   "outputs": [],
   "source": [
    "alpha_matrices = [constructMatrix((a1, a2, a3))]\n",
    "beta_matrices = [constructMatrix((a1, a2, b3)),\n",
    "                 constructMatrix((a1, b2, a3)),\n",
    "                 constructMatrix((b1, a2, a3))]\n",
    "gamma_matrices = [constructMatrix((a1, b2, b3)),\n",
    "                  constructMatrix((b1, a2, b3)),\n",
    "                  constructMatrix((b1, b2, a3))]\n",
    "delta_matrices = [constructMatrix((b1, b2, b3))]\n",
    "A = constructMatrix((a1, a2, a3))\n",
    "B = constructMatrix((b1, b2, b3))"
   ]
  },
  {
   "cell_type": "code",
   "execution_count": 8,
   "metadata": {},
   "outputs": [],
   "source": [
    "def determinants(m_list):\n",
    "    param = 0\n",
    "    for m in m_list:\n",
    "        param += m.det()\n",
    "    return param"
   ]
  },
  {
   "cell_type": "code",
   "execution_count": 9,
   "metadata": {},
   "outputs": [],
   "source": [
    "a = determinants(alpha_matrices)\n",
    "b = determinants(beta_matrices)\n",
    "g = determinants(gamma_matrices)\n",
    "d = determinants(delta_matrices)"
   ]
  },
  {
   "cell_type": "code",
   "execution_count": 10,
   "metadata": {},
   "outputs": [],
   "source": [
    "W = trigsimp(-2 * b ** 3 + 9 * a * b * g - 27 * a ** 2 * d)\n",
    "D = trigsimp(-b ** 2 * g ** 2 + 4 * a * g ** 3 + 4 * b ** 3 * d - 18 * a * b * g * d + 27 * a **2 * d ** 3)\n",
    "Q = W - a * sqrt(27 * D)\n",
    "R = (4*Q) ** (Rational(1/3))\n",
    "L = Matrix([2 * b ** 2 - 6 * a * g,\n",
    "            -b,\n",
    "            R])\n",
    "M = 3 * a * Matrix([R, 1, 2])"
   ]
  },
  {
   "cell_type": "code",
   "execution_count": null,
   "metadata": {},
   "outputs": [],
   "source": []
  },
  {
   "cell_type": "code",
   "execution_count": 17,
   "metadata": {},
   "outputs": [],
   "source": [
    "w = Rational(-1/2)*(1 + 1j * sqrt(Rational(3)))"
   ]
  },
  {
   "cell_type": "code",
   "execution_count": 18,
   "metadata": {},
   "outputs": [],
   "source": [
    "w_m = Matrix([[w, 1, w**2],\n",
    "              [1, 1, 1],\n",
    "              [w**2, 1, w]])"
   ]
  },
  {
   "cell_type": "code",
   "execution_count": 23,
   "metadata": {},
   "outputs": [],
   "source": [
    "l = w_m * L\n",
    "m = w_m * M"
   ]
  },
  {
   "cell_type": "code",
   "execution_count": 24,
   "metadata": {},
   "outputs": [],
   "source": [
    "n = l[0] * A + m[0] * B"
   ]
  },
  {
   "cell_type": "code",
   "execution_count": null,
   "metadata": {},
   "outputs": [],
   "source": [
    "n.det().simplify()"
   ]
  },
  {
   "cell_type": "code",
   "execution_count": null,
   "metadata": {},
   "outputs": [],
   "source": []
  }
 ],
 "metadata": {
  "kernelspec": {
   "display_name": "Python 3",
   "language": "python",
   "name": "python3"
  },
  "language_info": {
   "codemirror_mode": {
    "name": "ipython",
    "version": 3
   },
   "file_extension": ".py",
   "mimetype": "text/x-python",
   "name": "python",
   "nbconvert_exporter": "python",
   "pygments_lexer": "ipython3",
   "version": "3.6.5"
  }
 },
 "nbformat": 4,
 "nbformat_minor": 2
}
