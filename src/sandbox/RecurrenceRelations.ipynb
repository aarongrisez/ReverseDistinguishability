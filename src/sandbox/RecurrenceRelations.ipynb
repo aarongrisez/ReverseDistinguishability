{
 "cells": [
  {
   "cell_type": "code",
   "execution_count": 4,
   "metadata": {},
   "outputs": [],
   "source": [
    "import sympy as sym\n",
    "sym.init_printing()"
   ]
  },
  {
   "cell_type": "code",
   "execution_count": 5,
   "metadata": {},
   "outputs": [],
   "source": [
    "t = sym.Symbol('t', commutative=True)\n",
    "n = sym.Symbol('n', commutative=True)\n",
    "rho0 = sym.Symbol('rho_0', commutative=True)\n",
    "rho = sym.Symbol('rho', commutative=True)\n",
    "tau = sym.Symbol('tau', commutative=True)\n",
    "x = sym.Symbol('X', commutative=True)"
   ]
  },
  {
   "cell_type": "code",
   "execution_count": 7,
   "metadata": {},
   "outputs": [],
   "source": [
    "f = sym.Function('f')"
   ]
  },
  {
   "cell_type": "code",
   "execution_count": 4,
   "metadata": {},
   "outputs": [],
   "source": [
    "tnp1 = t**(n + 1)\n",
    "tn = t**n\n",
    "taun = tau**n"
   ]
  },
  {
   "cell_type": "code",
   "execution_count": 8,
   "metadata": {},
   "outputs": [],
   "source": [
    "expr = f(n+1) - f(n) * t"
   ]
  },
  {
   "cell_type": "code",
   "execution_count": 7,
   "metadata": {},
   "outputs": [
    {
     "data": {
      "image/png": "[encoded data removed]",
      "text/latex": [
       "$$- \\rho \\rho_{n}{\\left (n \\right )} - \\frac{\\rho_{0} \\tau^{n} \\left(t^{n} - t^{n + 1}\\right)}{- t^{n} + 1} + \\rho_{n}{\\left (n + 1 \\right )}$$"
      ],
      "text/plain": [
       "               n ⎛ n    n + 1⎞            \n",
       "           ρ₀⋅τ ⋅⎝t  - t     ⎠            \n",
       "-ρ⋅ρₙ(n) - ─────────────────── + ρₙ(n + 1)\n",
       "                    n                     \n",
       "                 - t  + 1                 "
      ]
     },
     "execution_count": 7,
     "metadata": {},
     "output_type": "execute_result"
    }
   ],
   "source": [
    "expr"
   ]
  },
  {
   "cell_type": "code",
   "execution_count": 13,
   "metadata": {},
   "outputs": [
    {
     "name": "stdout",
     "output_type": "stream",
     "text": [
      "t*t**n\n"
     ]
    }
   ],
   "source": [
    "print(sym.rsolve(expr, f(n), {f(0):t}))"
   ]
  },
  {
   "cell_type": "code",
   "execution_count": null,
   "metadata": {},
   "outputs": [],
   "source": []
  }
 ],
 "metadata": {
  "kernelspec": {
   "display_name": "Python 3",
   "language": "python",
   "name": "python3"
  },
  "language_info": {
   "codemirror_mode": {
    "name": "ipython",
    "version": 3
   },
   "file_extension": ".py",
   "mimetype": "text/x-python",
   "name": "python",
   "nbconvert_exporter": "python",
   "pygments_lexer": "ipython3",
   "version": "3.6.5"
  }
 },
 "nbformat": 4,
 "nbformat_minor": 2
}
