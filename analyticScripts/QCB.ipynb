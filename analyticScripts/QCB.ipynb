{
 "cells": [
  {
   "cell_type": "code",
   "execution_count": 1,
   "metadata": {},
   "outputs": [],
   "source": [
    "import utilities\n",
    "import sympy\n",
    "sympy.init_printing(use_unicode=True)"
   ]
  },
  {
   "cell_type": "code",
   "execution_count": 11,
   "metadata": {},
   "outputs": [
    {
     "data": {
      "image/png": "[encoded data removed]",
      "text/latex": [
       "$$\\frac{t^{\\frac{1}{p - 1}} \\left(\\left(- r_{1} + 1\\right) \\left(r_{2}^{2} t^{\\frac{1}{p - 1}} \\cos^{2}{\\left (\\theta \\right )} + \\left(r_{2} \\sin{\\left (\\theta \\right )} - 1\\right) \\left(t^{\\frac{1}{p - 1}} \\left(r_{1} \\sin{\\left (\\theta \\right )} + 1\\right) + 2\\right)\\right) \\left(r_{1} + 2 t^{\\frac{1}{p}} + 1\\right) + \\left(r_{1} + 1\\right) \\left(r_{2}^{2} t^{\\frac{1}{p - 1}} \\cos^{2}{\\left (\\theta \\right )} - \\left(r_{1} \\sin{\\left (\\theta \\right )} + 1\\right) \\left(t^{\\frac{1}{p - 1}} \\left(- r_{2} \\sin{\\left (\\theta \\right )} + 1\\right) + 2\\right)\\right) \\left(- r_{1} + 2 t^{\\frac{1}{p}} + 1\\right)\\right)}{\\left(r_{2}^{2} t^{\\frac{2}{p - 1}} \\cos^{2}{\\left (\\theta \\right )} - \\left(t^{\\frac{1}{p - 1}} \\left(r_{1} \\sin{\\left (\\theta \\right )} + 1\\right) + 2\\right) \\left(t^{\\frac{1}{p - 1}} \\left(- r_{2} \\sin{\\left (\\theta \\right )} + 1\\right) + 2\\right)\\right) \\left(- r_{1} + 2 t^{\\frac{1}{p}} + 1\\right) \\left(r_{1} + 2 t^{\\frac{1}{p}} + 1\\right)}$$"
      ],
      "text/plain": [
       "   1   ⎛          ⎛       1                             ⎛   1                 \n",
       " ───── ⎜          ⎜     ─────                           ⎜ ─────               \n",
       " p - 1 ⎜          ⎜  2  p - 1    2                      ⎜ p - 1               \n",
       "t     ⋅⎝(-r₁ + 1)⋅⎝r₂ ⋅t     ⋅cos (θ) + (r₂⋅sin(θ) - 1)⋅⎝t     ⋅(r₁⋅sin(θ) + 1\n",
       "──────────────────────────────────────────────────────────────────────────────\n",
       "                                           ⎛       2             ⎛   1        \n",
       "                                           ⎜     ─────           ⎜ ─────      \n",
       "                                           ⎜  2  p - 1    2      ⎜ p - 1      \n",
       "                                           ⎝r₂ ⋅t     ⋅cos (θ) - ⎝t     ⋅(r₁⋅s\n",
       "\n",
       "     ⎞⎞                               ⎛       1                             ⎛ \n",
       "     ⎟⎟                               ⎜     ─────                           ⎜ \n",
       "     ⎟⎟ ⎛       p ___    ⎞            ⎜  2  p - 1    2                      ⎜ \n",
       ") + 2⎠⎠⋅⎝r₁ + 2⋅╲╱ t  + 1⎠ + (r₁ + 1)⋅⎝r₂ ⋅t     ⋅cos (θ) - (r₁⋅sin(θ) + 1)⋅⎝t\n",
       "──────────────────────────────────────────────────────────────────────────────\n",
       "              ⎞ ⎛   1                       ⎞⎞                                \n",
       "              ⎟ ⎜ ─────                     ⎟⎟                                \n",
       "              ⎟ ⎜ p - 1                     ⎟⎟ ⎛        p ___    ⎞ ⎛       p _\n",
       "in(θ) + 1) + 2⎠⋅⎝t     ⋅(-r₂⋅sin(θ) + 1) + 2⎠⎠⋅⎝-r₁ + 2⋅╲╱ t  + 1⎠⋅⎝r₁ + 2⋅╲╱ \n",
       "\n",
       "  1                       ⎞⎞                    ⎞\n",
       "─────                     ⎟⎟                    ⎟\n",
       "p - 1                     ⎟⎟ ⎛        p ___    ⎞⎟\n",
       "     ⋅(-r₂⋅sin(θ) + 1) + 2⎠⎠⋅⎝-r₁ + 2⋅╲╱ t  + 1⎠⎠\n",
       "─────────────────────────────────────────────────\n",
       "                                                 \n",
       "                                                 \n",
       "__    ⎞                                          \n",
       "t  + 1⎠                                          "
      ]
     },
     "execution_count": 11,
     "metadata": {},
     "output_type": "execute_result"
    }
   ],
   "source": [
    "sympy.simplify(utilities.testQubit())"
   ]
  },
  {
   "cell_type": "code",
   "execution_count": null,
   "metadata": {},
   "outputs": [],
   "source": []
  }
 ],
 "metadata": {
  "kernelspec": {
   "display_name": "Python 3",
   "language": "python",
   "name": "python3"
  },
  "language_info": {
   "codemirror_mode": {
    "name": "ipython",
    "version": 3
   },
   "file_extension": ".py",
   "mimetype": "text/x-python",
   "name": "python",
   "nbconvert_exporter": "python",
   "pygments_lexer": "ipython3",
   "version": "3.6.5"
  }
 },
 "nbformat": 4,
 "nbformat_minor": 2
}
