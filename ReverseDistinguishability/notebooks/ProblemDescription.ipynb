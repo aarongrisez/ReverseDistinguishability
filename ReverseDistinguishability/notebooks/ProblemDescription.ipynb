{
 "cells": [
  {
   "cell_type": "markdown",
   "metadata": {},
   "source": [
    "# Reverse Distinguishability\n",
    "### Matthew Leifer - Ryan Morris - Aaron Grisez\n",
    "\n",
    "Our program is to reformulate the problem of distinguishing quantum states in a resource-theoretic context. That is, by defining a state space consisting of pairs of quantum states and free operations as Completely-Positive Trace-preserving (CPT) maps, we show that distinguishability can be regarded as a resource. This is analagous to entanglement of quantum states, which cannot increase under Local Operations and Classical Communication."
   ]
  },
  {
   "cell_type": "markdown",
   "metadata": {},
   "source": [
    "Most discussions of distinguishability focus on maximizing the amount of classical distinguishability extractable from quantum states via measurements. In entanglement theory, the analogy is to distillable entanglement.  We call this extractable distinguishability the **forward distinguishability**.  Here, we study **reverse distinguishability**, which quantifies the minimum amount of classical distinguishability required to prepare a quantum system in one of two states. In this context, reverse distinguishability is analagous to entanglement cost.  We show that any measure of distinguishability is bounded between a measure of forward distinguishability and a measure of reverse distinguishability."
   ]
  },
  {
   "cell_type": "markdown",
   "metadata": {},
   "source": [
    "Additionally, we show that pairs of states reversibly convertable into classical distinguihsability (i.e. those for which there is no gap between the forward and reverse distinguishabilities) correspond to pairs of density operators that commute. There is a strong relationship between measures of reverse distinguishability and measures of the compatibility of a pair of quantum states, which we demonstrate by showing that the variational reverse distinguishability is identical to a measure of compatibility proposed by Kitaev, for which we provide an operational interpretation."
   ]
  },
  {
   "cell_type": "code",
   "execution_count": null,
   "metadata": {},
   "outputs": [],
   "source": []
  }
 ],
 "metadata": {
  "kernelspec": {
   "display_name": "Python 3",
   "language": "python",
   "name": "python3"
  },
  "language_info": {
   "codemirror_mode": {
    "name": "ipython",
    "version": 3
   },
   "file_extension": ".py",
   "mimetype": "text/x-python",
   "name": "python",
   "nbconvert_exporter": "python",
   "pygments_lexer": "ipython3",
   "version": "3.6.5"
  }
 },
 "nbformat": 4,
 "nbformat_minor": 2
}
